{
  "nbformat": 4,
  "nbformat_minor": 0,
  "metadata": {
    "colab": {
      "name": "mnist_simple_NN",
      "version": "0.3.2",
      "views": {},
      "default_view": {},
      "provenance": []
    },
    "kernelspec": {
      "name": "python3",
      "display_name": "Python 3"
    },
    "accelerator": "GPU"
  },
  "cells": [
    {
      "metadata": {
        "id": "HglDJrPapcoc",
        "colab_type": "code",
        "colab": {
          "autoexec": {
            "startup": false,
            "wait_interval": 0
          },
          "base_uri": "https://localhost:8080/",
          "height": 70
        },
        "outputId": "917e001d-9e7e-4867-92ac-6918c648f170",
        "executionInfo": {
          "status": "ok",
          "timestamp": 1529565565988,
          "user_tz": -330,
          "elapsed": 2173,
          "user": {
            "displayName": "Prakhar Srivastava",
            "photoUrl": "//lh6.googleusercontent.com/-_cHMh2zEiCY/AAAAAAAAAAI/AAAAAAAAAAA/_VIorrgpTiw/s50-c-k-no/photo.jpg",
            "userId": "115089990900708305926"
          }
        }
      },
      "cell_type": "code",
      "source": [
        "! free -m"
      ],
      "execution_count": 1,
      "outputs": [
        {
          "output_type": "stream",
          "text": [
            "              total        used        free      shared  buff/cache   available\r\n",
            "Mem:          13029         370        1929         247       10729       12163\r\n",
            "Swap:             0           0           0\r\n"
          ],
          "name": "stdout"
        }
      ]
    },
    {
      "metadata": {
        "id": "aNqKn6Uwp26C",
        "colab_type": "code",
        "colab": {
          "autoexec": {
            "startup": false,
            "wait_interval": 0
          }
        }
      },
      "cell_type": "code",
      "source": [
        "import tensorflow as tf"
      ],
      "execution_count": 0,
      "outputs": []
    },
    {
      "metadata": {
        "id": "Fv9X-gh4qAT4",
        "colab_type": "code",
        "colab": {
          "autoexec": {
            "startup": false,
            "wait_interval": 0
          },
          "base_uri": "https://localhost:8080/",
          "height": 427
        },
        "outputId": "c4579cef-47d0-4a7b-bcee-7bb9b1d92da7",
        "executionInfo": {
          "status": "ok",
          "timestamp": 1529565577746,
          "user_tz": -330,
          "elapsed": 7645,
          "user": {
            "displayName": "Prakhar Srivastava",
            "photoUrl": "//lh6.googleusercontent.com/-_cHMh2zEiCY/AAAAAAAAAAI/AAAAAAAAAAA/_VIorrgpTiw/s50-c-k-no/photo.jpg",
            "userId": "115089990900708305926"
          }
        }
      },
      "cell_type": "code",
      "source": [
        "from tensorflow.examples.tutorials.mnist import input_data\n",
        "mnist=input_data.read_data_sets('MNIST_data/',one_hot=True)"
      ],
      "execution_count": 3,
      "outputs": [
        {
          "output_type": "stream",
          "text": [
            "WARNING:tensorflow:From <ipython-input-3-bc596981f0bb>:2: read_data_sets (from tensorflow.contrib.learn.python.learn.datasets.mnist) is deprecated and will be removed in a future version.\n",
            "Instructions for updating:\n",
            "Please use alternatives such as official/mnist/dataset.py from tensorflow/models.\n",
            "WARNING:tensorflow:From /usr/local/lib/python3.6/dist-packages/tensorflow/contrib/learn/python/learn/datasets/mnist.py:260: maybe_download (from tensorflow.contrib.learn.python.learn.datasets.base) is deprecated and will be removed in a future version.\n",
            "Instructions for updating:\n",
            "Please write your own downloading logic.\n",
            "WARNING:tensorflow:From /usr/local/lib/python3.6/dist-packages/tensorflow/contrib/learn/python/learn/datasets/mnist.py:262: extract_images (from tensorflow.contrib.learn.python.learn.datasets.mnist) is deprecated and will be removed in a future version.\n",
            "Instructions for updating:\n",
            "Please use tf.data to implement this functionality.\n",
            "Extracting MNIST_data/train-images-idx3-ubyte.gz\n",
            "WARNING:tensorflow:From /usr/local/lib/python3.6/dist-packages/tensorflow/contrib/learn/python/learn/datasets/mnist.py:267: extract_labels (from tensorflow.contrib.learn.python.learn.datasets.mnist) is deprecated and will be removed in a future version.\n",
            "Instructions for updating:\n",
            "Please use tf.data to implement this functionality.\n",
            "Extracting MNIST_data/train-labels-idx1-ubyte.gz\n",
            "WARNING:tensorflow:From /usr/local/lib/python3.6/dist-packages/tensorflow/contrib/learn/python/learn/datasets/mnist.py:110: dense_to_one_hot (from tensorflow.contrib.learn.python.learn.datasets.mnist) is deprecated and will be removed in a future version.\n",
            "Instructions for updating:\n",
            "Please use tf.one_hot on tensors.\n",
            "Extracting MNIST_data/t10k-images-idx3-ubyte.gz\n",
            "Extracting MNIST_data/t10k-labels-idx1-ubyte.gz\n",
            "WARNING:tensorflow:From /usr/local/lib/python3.6/dist-packages/tensorflow/contrib/learn/python/learn/datasets/mnist.py:290: DataSet.__init__ (from tensorflow.contrib.learn.python.learn.datasets.mnist) is deprecated and will be removed in a future version.\n",
            "Instructions for updating:\n",
            "Please use alternatives such as official/mnist/dataset.py from tensorflow/models.\n"
          ],
          "name": "stdout"
        }
      ]
    },
    {
      "metadata": {
        "id": "ScOyEA1HqE7V",
        "colab_type": "code",
        "colab": {
          "autoexec": {
            "startup": false,
            "wait_interval": 0
          },
          "base_uri": "https://localhost:8080/",
          "height": 34
        },
        "outputId": "07f74ef6-bbe6-4b2f-b269-a0a34dee9e95",
        "executionInfo": {
          "status": "ok",
          "timestamp": 1529565582111,
          "user_tz": -330,
          "elapsed": 2016,
          "user": {
            "displayName": "Prakhar Srivastava",
            "photoUrl": "//lh6.googleusercontent.com/-_cHMh2zEiCY/AAAAAAAAAAI/AAAAAAAAAAA/_VIorrgpTiw/s50-c-k-no/photo.jpg",
            "userId": "115089990900708305926"
          }
        }
      },
      "cell_type": "code",
      "source": [
        "!ls"
      ],
      "execution_count": 4,
      "outputs": [
        {
          "output_type": "stream",
          "text": [
            "datalab  MNIST_data\r\n"
          ],
          "name": "stdout"
        }
      ]
    },
    {
      "metadata": {
        "id": "8gBT3J4QqfLD",
        "colab_type": "code",
        "colab": {
          "autoexec": {
            "startup": false,
            "wait_interval": 0
          },
          "base_uri": "https://localhost:8080/",
          "height": 380
        },
        "outputId": "67fb7d03-8df4-4d31-eefa-c22a5d0a716b",
        "executionInfo": {
          "status": "ok",
          "timestamp": 1529565584718,
          "user_tz": -330,
          "elapsed": 1606,
          "user": {
            "displayName": "Prakhar Srivastava",
            "photoUrl": "//lh6.googleusercontent.com/-_cHMh2zEiCY/AAAAAAAAAAI/AAAAAAAAAAA/_VIorrgpTiw/s50-c-k-no/photo.jpg",
            "userId": "115089990900708305926"
          }
        }
      },
      "cell_type": "code",
      "source": [
        "import matplotlib.pyplot as plt\n",
        "\n",
        "def display_sample(num):\n",
        "    print(mnist.train.labels[num])  \n",
        "    label = mnist.train.labels[num].argmax(axis=0)\n",
        "    image = mnist.train.images[num].reshape([28,28])\n",
        "    plt.title('Sample' +str(num)+ '\\t' + 'Label:'+ str(label))\n",
        "    plt.imshow(image, cmap=plt.get_cmap('coolwarm'))\n",
        "    plt.show()\n",
        "    \n",
        "display_sample(0)"
      ],
      "execution_count": 5,
      "outputs": [
        {
          "output_type": "stream",
          "text": [
            "[0. 0. 0. 0. 0. 0. 0. 1. 0. 0.]\n"
          ],
          "name": "stdout"
        },
        {
          "output_type": "display_data",
          "data": {
            "image/png": "[encoded data removed]",
            "text/plain": [
              "<matplotlib.figure.Figure at 0x7f8daaff3128>"
            ]
          },
          "metadata": {
            "tags": []
          }
        }
      ]
    },
    {
      "metadata": {
        "id": "M-gV_ekpqiyj",
        "colab_type": "code",
        "colab": {
          "autoexec": {
            "startup": false,
            "wait_interval": 0
          }
        }
      },
      "cell_type": "code",
      "source": [
        "input_images = tf.placeholder(tf.float32, shape=[None, 784])\n",
        "target_labels = tf.placeholder(tf.float32, shape=[None, 10])"
      ],
      "execution_count": 0,
      "outputs": []
    },
    {
      "metadata": {
        "id": "qmAztnSsqkbu",
        "colab_type": "code",
        "colab": {
          "autoexec": {
            "startup": false,
            "wait_interval": 0
          }
        }
      },
      "cell_type": "code",
      "source": [
        "hidden_nodes = 32768\n",
        "\n",
        "input_weights = tf.Variable(tf.truncated_normal([784, hidden_nodes]))\n",
        "input_biases = tf.Variable(tf.zeros([hidden_nodes]))\n",
        "\n",
        "hidden_weights = tf.Variable(tf.truncated_normal([hidden_nodes, 10]))\n",
        "hidden_biases = tf.Variable(tf.zeros([10]))"
      ],
      "execution_count": 0,
      "outputs": []
    },
    {
      "metadata": {
        "id": "oV4ZzXymImmi",
        "colab_type": "code",
        "colab": {
          "autoexec": {
            "startup": false,
            "wait_interval": 0
          }
        }
      },
      "cell_type": "code",
      "source": [
        "input_layer = tf.matmul(input_images, input_weights)\n",
        "hidden_layer = tf.nn.relu(input_layer + input_biases)\n",
        "digit_weights = tf.matmul(hidden_layer, hidden_weights) + hidden_biases"
      ],
      "execution_count": 0,
      "outputs": []
    },
    {
      "metadata": {
        "id": "9tHm4aVbJC6S",
        "colab_type": "code",
        "colab": {
          "autoexec": {
            "startup": false,
            "wait_interval": 0
          }
        }
      },
      "cell_type": "code",
      "source": [
        "\n",
        "loss_function = tf.reduce_mean(tf.nn.softmax_cross_entropy_with_logits(logits=digit_weights, labels=target_labels))"
      ],
      "execution_count": 0,
      "outputs": []
    },
    {
      "metadata": {
        "id": "Ieo9l2udI3cr",
        "colab_type": "code",
        "colab": {
          "autoexec": {
            "startup": false,
            "wait_interval": 0
          }
        }
      },
      "cell_type": "code",
      "source": [
        "optimizer = tf.train.GradientDescentOptimizer(0.5).minimize(loss_function)"
      ],
      "execution_count": 0,
      "outputs": []
    },
    {
      "metadata": {
        "id": "1kRHNywDI9Yl",
        "colab_type": "code",
        "colab": {
          "autoexec": {
            "startup": false,
            "wait_interval": 0
          }
        }
      },
      "cell_type": "code",
      "source": [
        "correct_prediction = tf.equal(tf.argmax(digit_weights,1), tf.argmax(target_labels,1))\n",
        "accuracy = tf.reduce_mean(tf.cast(correct_prediction, tf.float32))"
      ],
      "execution_count": 0,
      "outputs": []
    },
    {
      "metadata": {
        "id": "cB3s3AHZJJjP",
        "colab_type": "code",
        "colab": {
          "autoexec": {
            "startup": false,
            "wait_interval": 0
          },
          "base_uri": "https://localhost:8080/",
          "height": 727
        },
        "outputId": "58cad417-8733-4955-b2b4-0fbc6049ab3a",
        "executionInfo": {
          "status": "ok",
          "timestamp": 1529565832428,
          "user_tz": -330,
          "elapsed": 36513,
          "user": {
            "displayName": "Prakhar Srivastava",
            "photoUrl": "//lh6.googleusercontent.com/-_cHMh2zEiCY/AAAAAAAAAAI/AAAAAAAAAAA/_VIorrgpTiw/s50-c-k-no/photo.jpg",
            "userId": "115089990900708305926"
          }
        }
      },
      "cell_type": "code",
      "source": [
        "with tf.Session() as sess:\n",
        "  sess.run(tf.global_variables_initializer())\n",
        "  for x in range(2000):\n",
        "    batch = mnist.train.next_batch(100)\n",
        "    optimizer.run(feed_dict={input_images: batch[0], target_labels: batch[1]})\n",
        "    if ((x+1) % 100 == 0):\n",
        "        print(\"Training epoch \" + str(x+1))\n",
        "        print(\"Accuracy: \" + str(accuracy.eval(feed_dict={input_images: mnist.test.images, target_labels: mnist.test.labels})))"
      ],
      "execution_count": 18,
      "outputs": [
        {
          "output_type": "stream",
          "text": [
            "Training epoch 100\n",
            "Accuracy: 0.9257\n",
            "Training epoch 200\n",
            "Accuracy: 0.9481\n",
            "Training epoch 300\n",
            "Accuracy: 0.9455\n",
            "Training epoch 400\n",
            "Accuracy: 0.9453\n",
            "Training epoch 500\n",
            "Accuracy: 0.9624\n",
            "Training epoch 600\n",
            "Accuracy: 0.9579\n",
            "Training epoch 700\n",
            "Accuracy: 0.963\n",
            "Training epoch 800\n",
            "Accuracy: 0.9688\n",
            "Training epoch 900\n",
            "Accuracy: 0.9716\n",
            "Training epoch 1000\n",
            "Accuracy: 0.9737\n",
            "Training epoch 1100\n",
            "Accuracy: 0.9748\n",
            "Training epoch 1200\n",
            "Accuracy: 0.972\n",
            "Training epoch 1300\n",
            "Accuracy: 0.9747\n",
            "Training epoch 1400\n",
            "Accuracy: 0.9736\n",
            "Training epoch 1500\n",
            "Accuracy: 0.9722\n",
            "Training epoch 1600\n",
            "Accuracy: 0.9712\n",
            "Training epoch 1700\n",
            "Accuracy: 0.9716\n",
            "Training epoch 1800\n",
            "Accuracy: 0.9731\n",
            "Training epoch 1900\n",
            "Accuracy: 0.9733\n",
            "Training epoch 2000\n",
            "Accuracy: 0.9743\n"
          ],
          "name": "stdout"
        }
      ]
    },
    {
      "metadata": {
        "id": "-rU9oUN_JiQR",
        "colab_type": "code",
        "colab": {
          "autoexec": {
            "startup": false,
            "wait_interval": 0
          }
        }
      },
      "cell_type": "code",
      "source": [
        ""
      ],
      "execution_count": 0,
      "outputs": []
    }
  ]
}