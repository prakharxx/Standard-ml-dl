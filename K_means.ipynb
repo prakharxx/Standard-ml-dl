{
  "nbformat": 4,
  "nbformat_minor": 0,
  "metadata": {
    "colab": {
      "name": "K-means.ipynb",
      "version": "0.3.2",
      "views": {},
      "default_view": {},
      "provenance": []
    },
    "kernelspec": {
      "name": "python3",
      "display_name": "Python 3"
    }
  },
  "cells": [
    {
      "metadata": {
        "id": "aOwYD5H9MPxi",
        "colab_type": "code",
        "colab": {
          "autoexec": {
            "startup": false,
            "wait_interval": 0
          }
        }
      },
      "cell_type": "code",
      "source": [
        "import pandas as pd\n",
        "import numpy as np\n",
        "import matplotlib.pyplot as plt\n",
        "import seaborn as sns\n",
        "%matplotlib inline"
      ],
      "execution_count": 0,
      "outputs": []
    },
    {
      "metadata": {
        "id": "eOFMQYsoMbNA",
        "colab_type": "code",
        "colab": {
          "autoexec": {
            "startup": false,
            "wait_interval": 0
          },
          "resources": {
            "http://localhost:8080/nbextensions/google.colab/files.js": {
              "data": "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",
              "ok": true,
              "headers": [
                [
                  "content-type",
                  "application/javascript"
                ]
              ],
              "status": 200,
              "status_text": ""
            }
          },
          "base_uri": "https://localhost:8080/",
          "height": 73
        },
        "outputId": "bebb50f0-f697-4caf-fcbf-781136bd2677",
        "executionInfo": {
          "status": "ok",
          "timestamp": 1529867693891,
          "user_tz": -330,
          "elapsed": 16161,
          "user": {
            "displayName": "Prakhar Srivastava",
            "photoUrl": "//lh6.googleusercontent.com/-_cHMh2zEiCY/AAAAAAAAAAI/AAAAAAAAAAA/_VIorrgpTiw/s50-c-k-no/photo.jpg",
            "userId": "115089990900708305926"
          }
        }
      },
      "cell_type": "code",
      "source": [
        "from google.colab import files\n",
        "f=files.upload()"
      ],
      "execution_count": 92,
      "outputs": [
        {
          "output_type": "display_data",
          "data": {
            "text/html": [
              "\n",
              "     <input type=\"file\" id=\"files-d27e9b6d-3223-4a34-acb6-c8a17a46ee79\" name=\"files[]\" multiple disabled />\n",
              "     <output id=\"result-d27e9b6d-3223-4a34-acb6-c8a17a46ee79\">\n",
              "      Upload widget is only available when the cell has been executed in the\n",
              "      current browser session. Please rerun this cell to enable.\n",
              "      </output>\n",
              "      <script src=\"/nbextensions/google.colab/files.js\"></script> "
            ],
            "text/plain": [
              "<IPython.core.display.HTML object>"
            ]
          },
          "metadata": {
            "tags": []
          }
        },
        {
          "output_type": "stream",
          "text": [
            "Saving College_Data to College_Data\n"
          ],
          "name": "stdout"
        }
      ]
    },
    {
      "metadata": {
        "id": "d22avTCiN5JD",
        "colab_type": "code",
        "colab": {
          "autoexec": {
            "startup": false,
            "wait_interval": 0
          }
        }
      },
      "cell_type": "code",
      "source": [
        "df = pd.read_csv('College_Data',index_col=0)"
      ],
      "execution_count": 0,
      "outputs": []
    },
    {
      "metadata": {
        "id": "3SwKOGxNOP7l",
        "colab_type": "code",
        "colab": {
          "autoexec": {
            "startup": false,
            "wait_interval": 0
          },
          "base_uri": "https://localhost:8080/",
          "height": 431
        },
        "outputId": "a6b41603-e100-4d0d-c88d-b146ce3834a7",
        "executionInfo": {
          "status": "ok",
          "timestamp": 1529867739761,
          "user_tz": -330,
          "elapsed": 966,
          "user": {
            "displayName": "Prakhar Srivastava",
            "photoUrl": "//lh6.googleusercontent.com/-_cHMh2zEiCY/AAAAAAAAAAI/AAAAAAAAAAA/_VIorrgpTiw/s50-c-k-no/photo.jpg",
            "userId": "115089990900708305926"
          }
        }
      },
      "cell_type": "code",
      "source": [
        "df.info()"
      ],
      "execution_count": 94,
      "outputs": [
        {
          "output_type": "stream",
          "text": [
            "<class 'pandas.core.frame.DataFrame'>\n",
            "Index: 777 entries, Abilene Christian University to York College of Pennsylvania\n",
            "Data columns (total 18 columns):\n",
            "Private        777 non-null object\n",
            "Apps           777 non-null int64\n",
            "Accept         777 non-null int64\n",
            "Enroll         777 non-null int64\n",
            "Top10perc      777 non-null int64\n",
            "Top25perc      777 non-null int64\n",
            "F.Undergrad    777 non-null int64\n",
            "P.Undergrad    777 non-null int64\n",
            "Outstate       777 non-null int64\n",
            "Room.Board     777 non-null int64\n",
            "Books          777 non-null int64\n",
            "Personal       777 non-null int64\n",
            "PhD            777 non-null int64\n",
            "Terminal       777 non-null int64\n",
            "S.F.Ratio      777 non-null float64\n",
            "perc.alumni    777 non-null int64\n",
            "Expend         777 non-null int64\n",
            "Grad.Rate      777 non-null int64\n",
            "dtypes: float64(1), int64(16), object(1)\n",
            "memory usage: 115.3+ KB\n"
          ],
          "name": "stdout"
        }
      ]
    },
    {
      "metadata": {
        "id": "fiJZ_OIeOR42",
        "colab_type": "code",
        "colab": {
          "autoexec": {
            "startup": false,
            "wait_interval": 0
          },
          "base_uri": "https://localhost:8080/",
          "height": 317
        },
        "outputId": "159b75ba-e115-436a-f532-515965c6985d",
        "executionInfo": {
          "status": "ok",
          "timestamp": 1529867747444,
          "user_tz": -330,
          "elapsed": 934,
          "user": {
            "displayName": "Prakhar Srivastava",
            "photoUrl": "//lh6.googleusercontent.com/-_cHMh2zEiCY/AAAAAAAAAAI/AAAAAAAAAAA/_VIorrgpTiw/s50-c-k-no/photo.jpg",
            "userId": "115089990900708305926"
          }
        }
      },
      "cell_type": "code",
      "source": [
        "df.describe()"
      ],
      "execution_count": 95,
      "outputs": [
        {
          "output_type": "execute_result",
          "data": {
            "text/html": [
              "<div>\n",
              "<style scoped>\n",
              "    .dataframe tbody tr th:only-of-type {\n",
              "        vertical-align: middle;\n",
              "    }\n",
              "\n",
              "    .dataframe tbody tr th {\n",
              "        vertical-align: top;\n",
              "    }\n",
              "\n",
              "    .dataframe thead th {\n",
              "        text-align: right;\n",
              "    }\n",
              "</style>\n",
              "<table border=\"1\" class=\"dataframe\">\n",
              "  <thead>\n",
              "    <tr style=\"text-align: right;\">\n",
              "      <th></th>\n",
              "      <th>Apps</th>\n",
              "      <th>Accept</th>\n",
              "      <th>Enroll</th>\n",
              "      <th>Top10perc</th>\n",
              "      <th>Top25perc</th>\n",
              "      <th>F.Undergrad</th>\n",
              "      <th>P.Undergrad</th>\n",
              "      <th>Outstate</th>\n",
              "      <th>Room.Board</th>\n",
              "      <th>Books</th>\n",
              "      <th>Personal</th>\n",
              "      <th>PhD</th>\n",
              "      <th>Terminal</th>\n",
              "      <th>S.F.Ratio</th>\n",
              "      <th>perc.alumni</th>\n",
              "      <th>Expend</th>\n",
              "      <th>Grad.Rate</th>\n",
              "    </tr>\n",
              "  </thead>\n",
              "  <tbody>\n",
              "    <tr>\n",
              "      <th>count</th>\n",
              "      <td>777.000000</td>\n",
              "      <td>777.000000</td>\n",
              "      <td>777.000000</td>\n",
              "      <td>777.000000</td>\n",
              "      <td>777.000000</td>\n",
              "      <td>777.000000</td>\n",
              "      <td>777.000000</td>\n",
              "      <td>777.000000</td>\n",
              "      <td>777.000000</td>\n",
              "      <td>777.000000</td>\n",
              "      <td>777.000000</td>\n",
              "      <td>777.000000</td>\n",
              "      <td>777.000000</td>\n",
              "      <td>777.000000</td>\n",
              "      <td>777.000000</td>\n",
              "      <td>777.000000</td>\n",
              "      <td>777.00000</td>\n",
              "    </tr>\n",
              "    <tr>\n",
              "      <th>mean</th>\n",
              "      <td>3001.638353</td>\n",
              "      <td>2018.804376</td>\n",
              "      <td>779.972973</td>\n",
              "      <td>27.558559</td>\n",
              "      <td>55.796654</td>\n",
              "      <td>3699.907336</td>\n",
              "      <td>855.298584</td>\n",
              "      <td>10440.669241</td>\n",
              "      <td>4357.526384</td>\n",
              "      <td>549.380952</td>\n",
              "      <td>1340.642214</td>\n",
              "      <td>72.660232</td>\n",
              "      <td>79.702703</td>\n",
              "      <td>14.089704</td>\n",
              "      <td>22.743887</td>\n",
              "      <td>9660.171171</td>\n",
              "      <td>65.46332</td>\n",
              "    </tr>\n",
              "    <tr>\n",
              "      <th>std</th>\n",
              "      <td>3870.201484</td>\n",
              "      <td>2451.113971</td>\n",
              "      <td>929.176190</td>\n",
              "      <td>17.640364</td>\n",
              "      <td>19.804778</td>\n",
              "      <td>4850.420531</td>\n",
              "      <td>1522.431887</td>\n",
              "      <td>4023.016484</td>\n",
              "      <td>1096.696416</td>\n",
              "      <td>165.105360</td>\n",
              "      <td>677.071454</td>\n",
              "      <td>16.328155</td>\n",
              "      <td>14.722359</td>\n",
              "      <td>3.958349</td>\n",
              "      <td>12.391801</td>\n",
              "      <td>5221.768440</td>\n",
              "      <td>17.17771</td>\n",
              "    </tr>\n",
              "    <tr>\n",
              "      <th>min</th>\n",
              "      <td>81.000000</td>\n",
              "      <td>72.000000</td>\n",
              "      <td>35.000000</td>\n",
              "      <td>1.000000</td>\n",
              "      <td>9.000000</td>\n",
              "      <td>139.000000</td>\n",
              "      <td>1.000000</td>\n",
              "      <td>2340.000000</td>\n",
              "      <td>1780.000000</td>\n",
              "      <td>96.000000</td>\n",
              "      <td>250.000000</td>\n",
              "      <td>8.000000</td>\n",
              "      <td>24.000000</td>\n",
              "      <td>2.500000</td>\n",
              "      <td>0.000000</td>\n",
              "      <td>3186.000000</td>\n",
              "      <td>10.00000</td>\n",
              "    </tr>\n",
              "    <tr>\n",
              "      <th>25%</th>\n",
              "      <td>776.000000</td>\n",
              "      <td>604.000000</td>\n",
              "      <td>242.000000</td>\n",
              "      <td>15.000000</td>\n",
              "      <td>41.000000</td>\n",
              "      <td>992.000000</td>\n",
              "      <td>95.000000</td>\n",
              "      <td>7320.000000</td>\n",
              "      <td>3597.000000</td>\n",
              "      <td>470.000000</td>\n",
              "      <td>850.000000</td>\n",
              "      <td>62.000000</td>\n",
              "      <td>71.000000</td>\n",
              "      <td>11.500000</td>\n",
              "      <td>13.000000</td>\n",
              "      <td>6751.000000</td>\n",
              "      <td>53.00000</td>\n",
              "    </tr>\n",
              "    <tr>\n",
              "      <th>50%</th>\n",
              "      <td>1558.000000</td>\n",
              "      <td>1110.000000</td>\n",
              "      <td>434.000000</td>\n",
              "      <td>23.000000</td>\n",
              "      <td>54.000000</td>\n",
              "      <td>1707.000000</td>\n",
              "      <td>353.000000</td>\n",
              "      <td>9990.000000</td>\n",
              "      <td>4200.000000</td>\n",
              "      <td>500.000000</td>\n",
              "      <td>1200.000000</td>\n",
              "      <td>75.000000</td>\n",
              "      <td>82.000000</td>\n",
              "      <td>13.600000</td>\n",
              "      <td>21.000000</td>\n",
              "      <td>8377.000000</td>\n",
              "      <td>65.00000</td>\n",
              "    </tr>\n",
              "    <tr>\n",
              "      <th>75%</th>\n",
              "      <td>3624.000000</td>\n",
              "      <td>2424.000000</td>\n",
              "      <td>902.000000</td>\n",
              "      <td>35.000000</td>\n",
              "      <td>69.000000</td>\n",
              "      <td>4005.000000</td>\n",
              "      <td>967.000000</td>\n",
              "      <td>12925.000000</td>\n",
              "      <td>5050.000000</td>\n",
              "      <td>600.000000</td>\n",
              "      <td>1700.000000</td>\n",
              "      <td>85.000000</td>\n",
              "      <td>92.000000</td>\n",
              "      <td>16.500000</td>\n",
              "      <td>31.000000</td>\n",
              "      <td>10830.000000</td>\n",
              "      <td>78.00000</td>\n",
              "    </tr>\n",
              "    <tr>\n",
              "      <th>max</th>\n",
              "      <td>48094.000000</td>\n",
              "      <td>26330.000000</td>\n",
              "      <td>6392.000000</td>\n",
              "      <td>96.000000</td>\n",
              "      <td>100.000000</td>\n",
              "      <td>31643.000000</td>\n",
              "      <td>21836.000000</td>\n",
              "      <td>21700.000000</td>\n",
              "      <td>8124.000000</td>\n",
              "      <td>2340.000000</td>\n",
              "      <td>6800.000000</td>\n",
              "      <td>103.000000</td>\n",
              "      <td>100.000000</td>\n",
              "      <td>39.800000</td>\n",
              "      <td>64.000000</td>\n",
              "      <td>56233.000000</td>\n",
              "      <td>118.00000</td>\n",
              "    </tr>\n",
              "  </tbody>\n",
              "</table>\n",
              "</div>"
            ],
            "text/plain": [
              "               Apps        Accept       Enroll   Top10perc   Top25perc  \\\n",
              "count    777.000000    777.000000   777.000000  777.000000  777.000000   \n",
              "mean    3001.638353   2018.804376   779.972973   27.558559   55.796654   \n",
              "std     3870.201484   2451.113971   929.176190   17.640364   19.804778   \n",
              "min       81.000000     72.000000    35.000000    1.000000    9.000000   \n",
              "25%      776.000000    604.000000   242.000000   15.000000   41.000000   \n",
              "50%     1558.000000   1110.000000   434.000000   23.000000   54.000000   \n",
              "75%     3624.000000   2424.000000   902.000000   35.000000   69.000000   \n",
              "max    48094.000000  26330.000000  6392.000000   96.000000  100.000000   \n",
              "\n",
              "        F.Undergrad   P.Undergrad      Outstate   Room.Board        Books  \\\n",
              "count    777.000000    777.000000    777.000000   777.000000   777.000000   \n",
              "mean    3699.907336    855.298584  10440.669241  4357.526384   549.380952   \n",
              "std     4850.420531   1522.431887   4023.016484  1096.696416   165.105360   \n",
              "min      139.000000      1.000000   2340.000000  1780.000000    96.000000   \n",
              "25%      992.000000     95.000000   7320.000000  3597.000000   470.000000   \n",
              "50%     1707.000000    353.000000   9990.000000  4200.000000   500.000000   \n",
              "75%     4005.000000    967.000000  12925.000000  5050.000000   600.000000   \n",
              "max    31643.000000  21836.000000  21700.000000  8124.000000  2340.000000   \n",
              "\n",
              "          Personal         PhD    Terminal   S.F.Ratio  perc.alumni  \\\n",
              "count   777.000000  777.000000  777.000000  777.000000   777.000000   \n",
              "mean   1340.642214   72.660232   79.702703   14.089704    22.743887   \n",
              "std     677.071454   16.328155   14.722359    3.958349    12.391801   \n",
              "min     250.000000    8.000000   24.000000    2.500000     0.000000   \n",
              "25%     850.000000   62.000000   71.000000   11.500000    13.000000   \n",
              "50%    1200.000000   75.000000   82.000000   13.600000    21.000000   \n",
              "75%    1700.000000   85.000000   92.000000   16.500000    31.000000   \n",
              "max    6800.000000  103.000000  100.000000   39.800000    64.000000   \n",
              "\n",
              "             Expend  Grad.Rate  \n",
              "count    777.000000  777.00000  \n",
              "mean    9660.171171   65.46332  \n",
              "std     5221.768440   17.17771  \n",
              "min     3186.000000   10.00000  \n",
              "25%     6751.000000   53.00000  \n",
              "50%     8377.000000   65.00000  \n",
              "75%    10830.000000   78.00000  \n",
              "max    56233.000000  118.00000  "
            ]
          },
          "metadata": {
            "tags": []
          },
          "execution_count": 95
        }
      ]
    },
    {
      "metadata": {
        "id": "KVSvaXWgOTxg",
        "colab_type": "code",
        "colab": {
          "autoexec": {
            "startup": false,
            "wait_interval": 0
          },
          "base_uri": "https://localhost:8080/",
          "height": 360
        },
        "outputId": "7a4399bd-de50-4363-d15a-578ba975f5c7",
        "executionInfo": {
          "status": "ok",
          "timestamp": 1529867753671,
          "user_tz": -330,
          "elapsed": 1147,
          "user": {
            "displayName": "Prakhar Srivastava",
            "photoUrl": "//lh6.googleusercontent.com/-_cHMh2zEiCY/AAAAAAAAAAI/AAAAAAAAAAA/_VIorrgpTiw/s50-c-k-no/photo.jpg",
            "userId": "115089990900708305926"
          }
        }
      },
      "cell_type": "code",
      "source": [
        "df.head()"
      ],
      "execution_count": 96,
      "outputs": [
        {
          "output_type": "execute_result",
          "data": {
            "text/html": [
              "<div>\n",
              "<style scoped>\n",
              "    .dataframe tbody tr th:only-of-type {\n",
              "        vertical-align: middle;\n",
              "    }\n",
              "\n",
              "    .dataframe tbody tr th {\n",
              "        vertical-align: top;\n",
              "    }\n",
              "\n",
              "    .dataframe thead th {\n",
              "        text-align: right;\n",
              "    }\n",
              "</style>\n",
              "<table border=\"1\" class=\"dataframe\">\n",
              "  <thead>\n",
              "    <tr style=\"text-align: right;\">\n",
              "      <th></th>\n",
              "      <th>Private</th>\n",
              "      <th>Apps</th>\n",
              "      <th>Accept</th>\n",
              "      <th>Enroll</th>\n",
              "      <th>Top10perc</th>\n",
              "      <th>Top25perc</th>\n",
              "      <th>F.Undergrad</th>\n",
              "      <th>P.Undergrad</th>\n",
              "      <th>Outstate</th>\n",
              "      <th>Room.Board</th>\n",
              "      <th>Books</th>\n",
              "      <th>Personal</th>\n",
              "      <th>PhD</th>\n",
              "      <th>Terminal</th>\n",
              "      <th>S.F.Ratio</th>\n",
              "      <th>perc.alumni</th>\n",
              "      <th>Expend</th>\n",
              "      <th>Grad.Rate</th>\n",
              "    </tr>\n",
              "  </thead>\n",
              "  <tbody>\n",
              "    <tr>\n",
              "      <th>Abilene Christian University</th>\n",
              "      <td>Yes</td>\n",
              "      <td>1660</td>\n",
              "      <td>1232</td>\n",
              "      <td>721</td>\n",
              "      <td>23</td>\n",
              "      <td>52</td>\n",
              "      <td>2885</td>\n",
              "      <td>537</td>\n",
              "      <td>7440</td>\n",
              "      <td>3300</td>\n",
              "      <td>450</td>\n",
              "      <td>2200</td>\n",
              "      <td>70</td>\n",
              "      <td>78</td>\n",
              "      <td>18.1</td>\n",
              "      <td>12</td>\n",
              "      <td>7041</td>\n",
              "      <td>60</td>\n",
              "    </tr>\n",
              "    <tr>\n",
              "      <th>Adelphi University</th>\n",
              "      <td>Yes</td>\n",
              "      <td>2186</td>\n",
              "      <td>1924</td>\n",
              "      <td>512</td>\n",
              "      <td>16</td>\n",
              "      <td>29</td>\n",
              "      <td>2683</td>\n",
              "      <td>1227</td>\n",
              "      <td>12280</td>\n",
              "      <td>6450</td>\n",
              "      <td>750</td>\n",
              "      <td>1500</td>\n",
              "      <td>29</td>\n",
              "      <td>30</td>\n",
              "      <td>12.2</td>\n",
              "      <td>16</td>\n",
              "      <td>10527</td>\n",
              "      <td>56</td>\n",
              "    </tr>\n",
              "    <tr>\n",
              "      <th>Adrian College</th>\n",
              "      <td>Yes</td>\n",
              "      <td>1428</td>\n",
              "      <td>1097</td>\n",
              "      <td>336</td>\n",
              "      <td>22</td>\n",
              "      <td>50</td>\n",
              "      <td>1036</td>\n",
              "      <td>99</td>\n",
              "      <td>11250</td>\n",
              "      <td>3750</td>\n",
              "      <td>400</td>\n",
              "      <td>1165</td>\n",
              "      <td>53</td>\n",
              "      <td>66</td>\n",
              "      <td>12.9</td>\n",
              "      <td>30</td>\n",
              "      <td>8735</td>\n",
              "      <td>54</td>\n",
              "    </tr>\n",
              "    <tr>\n",
              "      <th>Agnes Scott College</th>\n",
              "      <td>Yes</td>\n",
              "      <td>417</td>\n",
              "      <td>349</td>\n",
              "      <td>137</td>\n",
              "      <td>60</td>\n",
              "      <td>89</td>\n",
              "      <td>510</td>\n",
              "      <td>63</td>\n",
              "      <td>12960</td>\n",
              "      <td>5450</td>\n",
              "      <td>450</td>\n",
              "      <td>875</td>\n",
              "      <td>92</td>\n",
              "      <td>97</td>\n",
              "      <td>7.7</td>\n",
              "      <td>37</td>\n",
              "      <td>19016</td>\n",
              "      <td>59</td>\n",
              "    </tr>\n",
              "    <tr>\n",
              "      <th>Alaska Pacific University</th>\n",
              "      <td>Yes</td>\n",
              "      <td>193</td>\n",
              "      <td>146</td>\n",
              "      <td>55</td>\n",
              "      <td>16</td>\n",
              "      <td>44</td>\n",
              "      <td>249</td>\n",
              "      <td>869</td>\n",
              "      <td>7560</td>\n",
              "      <td>4120</td>\n",
              "      <td>800</td>\n",
              "      <td>1500</td>\n",
              "      <td>76</td>\n",
              "      <td>72</td>\n",
              "      <td>11.9</td>\n",
              "      <td>2</td>\n",
              "      <td>10922</td>\n",
              "      <td>15</td>\n",
              "    </tr>\n",
              "  </tbody>\n",
              "</table>\n",
              "</div>"
            ],
            "text/plain": [
              "                             Private  Apps  Accept  Enroll  Top10perc  \\\n",
              "Abilene Christian University     Yes  1660    1232     721         23   \n",
              "Adelphi University               Yes  2186    1924     512         16   \n",
              "Adrian College                   Yes  1428    1097     336         22   \n",
              "Agnes Scott College              Yes   417     349     137         60   \n",
              "Alaska Pacific University        Yes   193     146      55         16   \n",
              "\n",
              "                              Top25perc  F.Undergrad  P.Undergrad  Outstate  \\\n",
              "Abilene Christian University         52         2885          537      7440   \n",
              "Adelphi University                   29         2683         1227     12280   \n",
              "Adrian College                       50         1036           99     11250   \n",
              "Agnes Scott College                  89          510           63     12960   \n",
              "Alaska Pacific University            44          249          869      7560   \n",
              "\n",
              "                              Room.Board  Books  Personal  PhD  Terminal  \\\n",
              "Abilene Christian University        3300    450      2200   70        78   \n",
              "Adelphi University                  6450    750      1500   29        30   \n",
              "Adrian College                      3750    400      1165   53        66   \n",
              "Agnes Scott College                 5450    450       875   92        97   \n",
              "Alaska Pacific University           4120    800      1500   76        72   \n",
              "\n",
              "                              S.F.Ratio  perc.alumni  Expend  Grad.Rate  \n",
              "Abilene Christian University       18.1           12    7041         60  \n",
              "Adelphi University                 12.2           16   10527         56  \n",
              "Adrian College                     12.9           30    8735         54  \n",
              "Agnes Scott College                 7.7           37   19016         59  \n",
              "Alaska Pacific University          11.9            2   10922         15  "
            ]
          },
          "metadata": {
            "tags": []
          },
          "execution_count": 96
        }
      ]
    },
    {
      "metadata": {
        "id": "9iqppo8POVPl",
        "colab_type": "code",
        "colab": {
          "autoexec": {
            "startup": false,
            "wait_interval": 0
          },
          "base_uri": "https://localhost:8080/",
          "height": 459
        },
        "outputId": "f009871c-3861-4801-ded8-6a62f4f3c1f3",
        "executionInfo": {
          "status": "ok",
          "timestamp": 1529867756575,
          "user_tz": -330,
          "elapsed": 1097,
          "user": {
            "displayName": "Prakhar Srivastava",
            "photoUrl": "//lh6.googleusercontent.com/-_cHMh2zEiCY/AAAAAAAAAAI/AAAAAAAAAAA/_VIorrgpTiw/s50-c-k-no/photo.jpg",
            "userId": "115089990900708305926"
          }
        }
      },
      "cell_type": "code",
      "source": [
        "sns.set_style('whitegrid')\n",
        "sns.lmplot('Room.Board','Grad.Rate',data=df, hue='Private',\n",
        "           palette='coolwarm',size=6,aspect=1,fit_reg=False)"
      ],
      "execution_count": 97,
      "outputs": [
        {
          "output_type": "execute_result",
          "data": {
            "text/plain": [
              "<seaborn.axisgrid.FacetGrid at 0x7f551845d3c8>"
            ]
          },
          "metadata": {
            "tags": []
          },
          "execution_count": 97
        },
        {
          "output_type": "display_data",
          "data": {
            "image/png": "[encoded data removed]",
            "text/plain": [
              "<matplotlib.figure.Figure at 0x7f551845ddd8>"
            ]
          },
          "metadata": {
            "tags": []
          }
        }
      ]
    },
    {
      "metadata": {
        "id": "DXRxYdsxOV9r",
        "colab_type": "code",
        "colab": {
          "autoexec": {
            "startup": false,
            "wait_interval": 0
          },
          "base_uri": "https://localhost:8080/",
          "height": 441
        },
        "outputId": "b1daf1f1-8f50-435c-f31c-71aac368726c",
        "executionInfo": {
          "status": "ok",
          "timestamp": 1529867779234,
          "user_tz": -330,
          "elapsed": 1193,
          "user": {
            "displayName": "Prakhar Srivastava",
            "photoUrl": "//lh6.googleusercontent.com/-_cHMh2zEiCY/AAAAAAAAAAI/AAAAAAAAAAA/_VIorrgpTiw/s50-c-k-no/photo.jpg",
            "userId": "115089990900708305926"
          }
        }
      },
      "cell_type": "code",
      "source": [
        "sns.set_style('darkgrid')\n",
        "g = sns.FacetGrid(df,hue=\"Private\",palette='coolwarm',size=6,aspect=2)\n",
        "g = g.map(plt.hist,'Outstate',bins=20,alpha=0.7)"
      ],
      "execution_count": 98,
      "outputs": [
        {
          "output_type": "display_data",
          "data": {
            "image/png": "[encoded data removed]",
            "text/plain": [
              "<matplotlib.figure.Figure at 0x7f551845d860>"
            ]
          },
          "metadata": {
            "tags": []
          }
        }
      ]
    },
    {
      "metadata": {
        "id": "H1umtgYDObeE",
        "colab_type": "code",
        "colab": {
          "autoexec": {
            "startup": false,
            "wait_interval": 0
          },
          "base_uri": "https://localhost:8080/",
          "height": 117
        },
        "outputId": "6963baf2-298f-46b8-acf5-d16c87111b40",
        "executionInfo": {
          "status": "ok",
          "timestamp": 1529867788876,
          "user_tz": -330,
          "elapsed": 1129,
          "user": {
            "displayName": "Prakhar Srivastava",
            "photoUrl": "//lh6.googleusercontent.com/-_cHMh2zEiCY/AAAAAAAAAAI/AAAAAAAAAAA/_VIorrgpTiw/s50-c-k-no/photo.jpg",
            "userId": "115089990900708305926"
          }
        }
      },
      "cell_type": "code",
      "source": [
        "df[df['Grad.Rate'] > 100]"
      ],
      "execution_count": 99,
      "outputs": [
        {
          "output_type": "execute_result",
          "data": {
            "text/html": [
              "<div>\n",
              "<style scoped>\n",
              "    .dataframe tbody tr th:only-of-type {\n",
              "        vertical-align: middle;\n",
              "    }\n",
              "\n",
              "    .dataframe tbody tr th {\n",
              "        vertical-align: top;\n",
              "    }\n",
              "\n",
              "    .dataframe thead th {\n",
              "        text-align: right;\n",
              "    }\n",
              "</style>\n",
              "<table border=\"1\" class=\"dataframe\">\n",
              "  <thead>\n",
              "    <tr style=\"text-align: right;\">\n",
              "      <th></th>\n",
              "      <th>Private</th>\n",
              "      <th>Apps</th>\n",
              "      <th>Accept</th>\n",
              "      <th>Enroll</th>\n",
              "      <th>Top10perc</th>\n",
              "      <th>Top25perc</th>\n",
              "      <th>F.Undergrad</th>\n",
              "      <th>P.Undergrad</th>\n",
              "      <th>Outstate</th>\n",
              "      <th>Room.Board</th>\n",
              "      <th>Books</th>\n",
              "      <th>Personal</th>\n",
              "      <th>PhD</th>\n",
              "      <th>Terminal</th>\n",
              "      <th>S.F.Ratio</th>\n",
              "      <th>perc.alumni</th>\n",
              "      <th>Expend</th>\n",
              "      <th>Grad.Rate</th>\n",
              "    </tr>\n",
              "  </thead>\n",
              "  <tbody>\n",
              "    <tr>\n",
              "      <th>Cazenovia College</th>\n",
              "      <td>Yes</td>\n",
              "      <td>3847</td>\n",
              "      <td>3433</td>\n",
              "      <td>527</td>\n",
              "      <td>9</td>\n",
              "      <td>35</td>\n",
              "      <td>1010</td>\n",
              "      <td>12</td>\n",
              "      <td>9384</td>\n",
              "      <td>4840</td>\n",
              "      <td>600</td>\n",
              "      <td>500</td>\n",
              "      <td>22</td>\n",
              "      <td>47</td>\n",
              "      <td>14.3</td>\n",
              "      <td>20</td>\n",
              "      <td>7697</td>\n",
              "      <td>118</td>\n",
              "    </tr>\n",
              "  </tbody>\n",
              "</table>\n",
              "</div>"
            ],
            "text/plain": [
              "                  Private  Apps  Accept  Enroll  Top10perc  Top25perc  \\\n",
              "Cazenovia College     Yes  3847    3433     527          9         35   \n",
              "\n",
              "                   F.Undergrad  P.Undergrad  Outstate  Room.Board  Books  \\\n",
              "Cazenovia College         1010           12      9384        4840    600   \n",
              "\n",
              "                   Personal  PhD  Terminal  S.F.Ratio  perc.alumni  Expend  \\\n",
              "Cazenovia College       500   22        47       14.3           20    7697   \n",
              "\n",
              "                   Grad.Rate  \n",
              "Cazenovia College        118  "
            ]
          },
          "metadata": {
            "tags": []
          },
          "execution_count": 99
        }
      ]
    },
    {
      "metadata": {
        "id": "0QHE5Q5POd1t",
        "colab_type": "code",
        "colab": {
          "autoexec": {
            "startup": false,
            "wait_interval": 0
          },
          "base_uri": "https://localhost:8080/",
          "height": 107
        },
        "outputId": "06864f54-8e88-46f6-ad7b-4f503a70a2bd",
        "executionInfo": {
          "status": "ok",
          "timestamp": 1529867795763,
          "user_tz": -330,
          "elapsed": 1042,
          "user": {
            "displayName": "Prakhar Srivastava",
            "photoUrl": "//lh6.googleusercontent.com/-_cHMh2zEiCY/AAAAAAAAAAI/AAAAAAAAAAA/_VIorrgpTiw/s50-c-k-no/photo.jpg",
            "userId": "115089990900708305926"
          }
        }
      },
      "cell_type": "code",
      "source": [
        "df['Grad.Rate']['Cazenovia College'] = 100"
      ],
      "execution_count": 100,
      "outputs": [
        {
          "output_type": "stream",
          "text": [
            "/usr/local/lib/python3.6/dist-packages/ipykernel_launcher.py:1: SettingWithCopyWarning: \n",
            "A value is trying to be set on a copy of a slice from a DataFrame\n",
            "\n",
            "See the caveats in the documentation: http://pandas.pydata.org/pandas-docs/stable/indexing.html#indexing-view-versus-copy\n",
            "  \"\"\"Entry point for launching an IPython kernel.\n"
          ],
          "name": "stderr"
        }
      ]
    },
    {
      "metadata": {
        "id": "FHVujTwQOfi3",
        "colab_type": "code",
        "colab": {
          "autoexec": {
            "startup": false,
            "wait_interval": 0
          }
        }
      },
      "cell_type": "code",
      "source": [
        "from sklearn.cluster import KMeans"
      ],
      "execution_count": 0,
      "outputs": []
    },
    {
      "metadata": {
        "id": "eJZldr6VOi2p",
        "colab_type": "code",
        "colab": {
          "autoexec": {
            "startup": false,
            "wait_interval": 0
          }
        }
      },
      "cell_type": "code",
      "source": [
        "kmeans = KMeans(n_clusters=2)"
      ],
      "execution_count": 0,
      "outputs": []
    },
    {
      "metadata": {
        "id": "0A_ZGlVeOmrg",
        "colab_type": "code",
        "colab": {
          "autoexec": {
            "startup": false,
            "wait_interval": 0
          },
          "base_uri": "https://localhost:8080/",
          "height": 71
        },
        "outputId": "40646fd3-3892-425a-e8fe-22aa98cccaa9",
        "executionInfo": {
          "status": "ok",
          "timestamp": 1529867833988,
          "user_tz": -330,
          "elapsed": 897,
          "user": {
            "displayName": "Prakhar Srivastava",
            "photoUrl": "//lh6.googleusercontent.com/-_cHMh2zEiCY/AAAAAAAAAAI/AAAAAAAAAAA/_VIorrgpTiw/s50-c-k-no/photo.jpg",
            "userId": "115089990900708305926"
          }
        }
      },
      "cell_type": "code",
      "source": [
        "kmeans.fit(df.drop('Private',axis=1))"
      ],
      "execution_count": 103,
      "outputs": [
        {
          "output_type": "execute_result",
          "data": {
            "text/plain": [
              "KMeans(algorithm='auto', copy_x=True, init='k-means++', max_iter=300,\n",
              "    n_clusters=2, n_init=10, n_jobs=1, precompute_distances='auto',\n",
              "    random_state=None, tol=0.0001, verbose=0)"
            ]
          },
          "metadata": {
            "tags": []
          },
          "execution_count": 103
        }
      ]
    },
    {
      "metadata": {
        "id": "2pRE1k4FOo6G",
        "colab_type": "code",
        "colab": {
          "autoexec": {
            "startup": false,
            "wait_interval": 0
          }
        }
      },
      "cell_type": "code",
      "source": [
        "def converter(cluster):\n",
        "    if cluster=='Yes':\n",
        "        return 1\n",
        "    else:\n",
        "        return 0"
      ],
      "execution_count": 0,
      "outputs": []
    },
    {
      "metadata": {
        "id": "qapkx1Q2Or45",
        "colab_type": "code",
        "colab": {
          "autoexec": {
            "startup": false,
            "wait_interval": 0
          }
        }
      },
      "cell_type": "code",
      "source": [
        "df['Cluster'] = df['Private'].apply(converter)"
      ],
      "execution_count": 0,
      "outputs": []
    },
    {
      "metadata": {
        "id": "VjeuIJ97OwpQ",
        "colab_type": "code",
        "colab": {
          "autoexec": {
            "startup": false,
            "wait_interval": 0
          },
          "base_uri": "https://localhost:8080/",
          "height": 179
        },
        "outputId": "f0b75e70-0822-4b1b-ce67-43550fef1bab",
        "executionInfo": {
          "status": "ok",
          "timestamp": 1529867867526,
          "user_tz": -330,
          "elapsed": 885,
          "user": {
            "displayName": "Prakhar Srivastava",
            "photoUrl": "//lh6.googleusercontent.com/-_cHMh2zEiCY/AAAAAAAAAAI/AAAAAAAAAAA/_VIorrgpTiw/s50-c-k-no/photo.jpg",
            "userId": "115089990900708305926"
          }
        }
      },
      "cell_type": "code",
      "source": [
        "from sklearn.metrics import confusion_matrix,classification_report\n",
        "print(confusion_matrix(df['Cluster'],kmeans.labels_))\n",
        "print(classification_report(df['Cluster'],kmeans.labels_))"
      ],
      "execution_count": 107,
      "outputs": [
        {
          "output_type": "stream",
          "text": [
            "[[ 74 138]\n",
            " [ 34 531]]\n",
            "             precision    recall  f1-score   support\n",
            "\n",
            "          0       0.69      0.35      0.46       212\n",
            "          1       0.79      0.94      0.86       565\n",
            "\n",
            "avg / total       0.76      0.78      0.75       777\n",
            "\n"
          ],
          "name": "stdout"
        }
      ]
    },
    {
      "metadata": {
        "id": "EolH_SjHOxGe",
        "colab_type": "code",
        "colab": {
          "autoexec": {
            "startup": false,
            "wait_interval": 0
          }
        }
      },
      "cell_type": "code",
      "source": [
        ""
      ],
      "execution_count": 0,
      "outputs": []
    }
  ]
}